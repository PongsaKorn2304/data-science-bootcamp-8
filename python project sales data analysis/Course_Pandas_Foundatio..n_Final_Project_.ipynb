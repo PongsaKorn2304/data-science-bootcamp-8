{
  "cells": [
    {
      "cell_type": "markdown",
      "metadata": {
        "id": "view-in-github",
        "colab_type": "text"
      },
      "source": [
        "<a href=\"https://colab.research.google.com/github/PongsaKorn2304/data-science-bootcamp-8/blob/main/Course_Pandas_Foundation_Final_Project_.ipynb\" target=\"_parent\"><img src=\"https://colab.research.google.com/assets/colab-badge.svg\" alt=\"Open In Colab\"/></a>"
      ]
    },
    {
      "cell_type": "markdown",
      "source": [
        "# Project"
      ],
      "metadata": {
        "datalore": {
          "node_id": "Project",
          "type": "MD",
          "hide_input_from_viewers": false,
          "hide_output_from_viewers": false,
          "sheet_delimiter": true
        },
        "id": "DB8mhZX-lhmR"
      }
    },
    {
      "cell_type": "markdown",
      "source": [
        "# Final Project - Analyzing Sales Data\n",
        "\n",
        "**Date**: 2023-10-05\n",
        "\n",
        "**Author**: Pongsakorn Akarach\n",
        "\n",
        "**Course**: `Pandas Foundation`"
      ],
      "metadata": {
        "datalore": {
          "node_id": "e6ixAzGPUlWOtGz25vMzSp",
          "type": "MD",
          "hide_input_from_viewers": false,
          "hide_output_from_viewers": false,
          "report_properties": {
            "rowId": "fskb46lNirOTAlGQM0WrDk"
          }
        },
        "id": "EDbIARxLlhmS"
      }
    },
    {
      "cell_type": "code",
      "source": [
        "# import data\n",
        "import pandas as pd\n",
        "df = pd.read_csv(\"https://raw.githubusercontent.com/PongsaKorn2304/data-science-bootcamp-8/main/python%20project%20sales%20data%20analysis/sample-store.csv\")"
      ],
      "execution_count": 85,
      "outputs": [],
      "metadata": {
        "datalore": {
          "node_id": "QzLAwWqkkbSH4RetwFmI57",
          "type": "CODE",
          "hide_input_from_viewers": false,
          "hide_output_from_viewers": false,
          "report_properties": {
            "rowId": "kdCiDEdGQXzCSraofbZXEU"
          }
        },
        "id": "rC1ognPflhmS"
      }
    },
    {
      "cell_type": "code",
      "source": [
        "# preview top 5 rows\n",
        "df.head()"
      ],
      "execution_count": 86,
      "outputs": [
        {
          "output_type": "execute_result",
          "data": {
            "text/plain": [
              "   Row ID        Order ID  Order Date   Ship Date       Ship Mode Customer ID  \\\n",
              "0       1  CA-2019-152156   11/8/2019  11/11/2019    Second Class    CG-12520   \n",
              "1       2  CA-2019-152156   11/8/2019  11/11/2019    Second Class    CG-12520   \n",
              "2       3  CA-2019-138688   6/12/2019   6/16/2019    Second Class    DV-13045   \n",
              "3       4  US-2018-108966  10/11/2018  10/18/2018  Standard Class    SO-20335   \n",
              "4       5  US-2018-108966  10/11/2018  10/18/2018  Standard Class    SO-20335   \n",
              "\n",
              "     Customer Name    Segment Country/Region             City  ...  \\\n",
              "0      Claire Gute   Consumer  United States        Henderson  ...   \n",
              "1      Claire Gute   Consumer  United States        Henderson  ...   \n",
              "2  Darrin Van Huff  Corporate  United States      Los Angeles  ...   \n",
              "3   Sean O'Donnell   Consumer  United States  Fort Lauderdale  ...   \n",
              "4   Sean O'Donnell   Consumer  United States  Fort Lauderdale  ...   \n",
              "\n",
              "  Postal Code  Region       Product ID         Category Sub-Category  \\\n",
              "0     42420.0   South  FUR-BO-10001798        Furniture    Bookcases   \n",
              "1     42420.0   South  FUR-CH-10000454        Furniture       Chairs   \n",
              "2     90036.0    West  OFF-LA-10000240  Office Supplies       Labels   \n",
              "3     33311.0   South  FUR-TA-10000577        Furniture       Tables   \n",
              "4     33311.0   South  OFF-ST-10000760  Office Supplies      Storage   \n",
              "\n",
              "                                        Product Name     Sales  Quantity  \\\n",
              "0                  Bush Somerset Collection Bookcase  261.9600         2   \n",
              "1  Hon Deluxe Fabric Upholstered Stacking Chairs,...  731.9400         3   \n",
              "2  Self-Adhesive Address Labels for Typewriters b...   14.6200         2   \n",
              "3      Bretford CR4500 Series Slim Rectangular Table  957.5775         5   \n",
              "4                     Eldon Fold 'N Roll Cart System   22.3680         2   \n",
              "\n",
              "   Discount    Profit  \n",
              "0      0.00   41.9136  \n",
              "1      0.00  219.5820  \n",
              "2      0.00    6.8714  \n",
              "3      0.45 -383.0310  \n",
              "4      0.20    2.5164  \n",
              "\n",
              "[5 rows x 21 columns]"
            ],
            "text/html": [
              "\n",
              "  <div id=\"df-afbe5375-5a02-46a8-b305-aaba5e4d5d6b\" class=\"colab-df-container\">\n",
              "    <div>\n",
              "<style scoped>\n",
              "    .dataframe tbody tr th:only-of-type {\n",
              "        vertical-align: middle;\n",
              "    }\n",
              "\n",
              "    .dataframe tbody tr th {\n",
              "        vertical-align: top;\n",
              "    }\n",
              "\n",
              "    .dataframe thead th {\n",
              "        text-align: right;\n",
              "    }\n",
              "</style>\n",
              "<table border=\"1\" class=\"dataframe\">\n",
              "  <thead>\n",
              "    <tr style=\"text-align: right;\">\n",
              "      <th></th>\n",
              "      <th>Row ID</th>\n",
              "      <th>Order ID</th>\n",
              "      <th>Order Date</th>\n",
              "      <th>Ship Date</th>\n",
              "      <th>Ship Mode</th>\n",
              "      <th>Customer ID</th>\n",
              "      <th>Customer Name</th>\n",
              "      <th>Segment</th>\n",
              "      <th>Country/Region</th>\n",
              "      <th>City</th>\n",
              "      <th>...</th>\n",
              "      <th>Postal Code</th>\n",
              "      <th>Region</th>\n",
              "      <th>Product ID</th>\n",
              "      <th>Category</th>\n",
              "      <th>Sub-Category</th>\n",
              "      <th>Product Name</th>\n",
              "      <th>Sales</th>\n",
              "      <th>Quantity</th>\n",
              "      <th>Discount</th>\n",
              "      <th>Profit</th>\n",
              "    </tr>\n",
              "  </thead>\n",
              "  <tbody>\n",
              "    <tr>\n",
              "      <th>0</th>\n",
              "      <td>1</td>\n",
              "      <td>CA-2019-152156</td>\n",
              "      <td>11/8/2019</td>\n",
              "      <td>11/11/2019</td>\n",
              "      <td>Second Class</td>\n",
              "      <td>CG-12520</td>\n",
              "      <td>Claire Gute</td>\n",
              "      <td>Consumer</td>\n",
              "      <td>United States</td>\n",
              "      <td>Henderson</td>\n",
              "      <td>...</td>\n",
              "      <td>42420.0</td>\n",
              "      <td>South</td>\n",
              "      <td>FUR-BO-10001798</td>\n",
              "      <td>Furniture</td>\n",
              "      <td>Bookcases</td>\n",
              "      <td>Bush Somerset Collection Bookcase</td>\n",
              "      <td>261.9600</td>\n",
              "      <td>2</td>\n",
              "      <td>0.00</td>\n",
              "      <td>41.9136</td>\n",
              "    </tr>\n",
              "    <tr>\n",
              "      <th>1</th>\n",
              "      <td>2</td>\n",
              "      <td>CA-2019-152156</td>\n",
              "      <td>11/8/2019</td>\n",
              "      <td>11/11/2019</td>\n",
              "      <td>Second Class</td>\n",
              "      <td>CG-12520</td>\n",
              "      <td>Claire Gute</td>\n",
              "      <td>Consumer</td>\n",
              "      <td>United States</td>\n",
              "      <td>Henderson</td>\n",
              "      <td>...</td>\n",
              "      <td>42420.0</td>\n",
              "      <td>South</td>\n",
              "      <td>FUR-CH-10000454</td>\n",
              "      <td>Furniture</td>\n",
              "      <td>Chairs</td>\n",
              "      <td>Hon Deluxe Fabric Upholstered Stacking Chairs,...</td>\n",
              "      <td>731.9400</td>\n",
              "      <td>3</td>\n",
              "      <td>0.00</td>\n",
              "      <td>219.5820</td>\n",
              "    </tr>\n",
              "    <tr>\n",
              "      <th>2</th>\n",
              "      <td>3</td>\n",
              "      <td>CA-2019-138688</td>\n",
              "      <td>6/12/2019</td>\n",
              "      <td>6/16/2019</td>\n",
              "      <td>Second Class</td>\n",
              "      <td>DV-13045</td>\n",
              "      <td>Darrin Van Huff</td>\n",
              "      <td>Corporate</td>\n",
              "      <td>United States</td>\n",
              "      <td>Los Angeles</td>\n",
              "      <td>...</td>\n",
              "      <td>90036.0</td>\n",
              "      <td>West</td>\n",
              "      <td>OFF-LA-10000240</td>\n",
              "      <td>Office Supplies</td>\n",
              "      <td>Labels</td>\n",
              "      <td>Self-Adhesive Address Labels for Typewriters b...</td>\n",
              "      <td>14.6200</td>\n",
              "      <td>2</td>\n",
              "      <td>0.00</td>\n",
              "      <td>6.8714</td>\n",
              "    </tr>\n",
              "    <tr>\n",
              "      <th>3</th>\n",
              "      <td>4</td>\n",
              "      <td>US-2018-108966</td>\n",
              "      <td>10/11/2018</td>\n",
              "      <td>10/18/2018</td>\n",
              "      <td>Standard Class</td>\n",
              "      <td>SO-20335</td>\n",
              "      <td>Sean O'Donnell</td>\n",
              "      <td>Consumer</td>\n",
              "      <td>United States</td>\n",
              "      <td>Fort Lauderdale</td>\n",
              "      <td>...</td>\n",
              "      <td>33311.0</td>\n",
              "      <td>South</td>\n",
              "      <td>FUR-TA-10000577</td>\n",
              "      <td>Furniture</td>\n",
              "      <td>Tables</td>\n",
              "      <td>Bretford CR4500 Series Slim Rectangular Table</td>\n",
              "      <td>957.5775</td>\n",
              "      <td>5</td>\n",
              "      <td>0.45</td>\n",
              "      <td>-383.0310</td>\n",
              "    </tr>\n",
              "    <tr>\n",
              "      <th>4</th>\n",
              "      <td>5</td>\n",
              "      <td>US-2018-108966</td>\n",
              "      <td>10/11/2018</td>\n",
              "      <td>10/18/2018</td>\n",
              "      <td>Standard Class</td>\n",
              "      <td>SO-20335</td>\n",
              "      <td>Sean O'Donnell</td>\n",
              "      <td>Consumer</td>\n",
              "      <td>United States</td>\n",
              "      <td>Fort Lauderdale</td>\n",
              "      <td>...</td>\n",
              "      <td>33311.0</td>\n",
              "      <td>South</td>\n",
              "      <td>OFF-ST-10000760</td>\n",
              "      <td>Office Supplies</td>\n",
              "      <td>Storage</td>\n",
              "      <td>Eldon Fold 'N Roll Cart System</td>\n",
              "      <td>22.3680</td>\n",
              "      <td>2</td>\n",
              "      <td>0.20</td>\n",
              "      <td>2.5164</td>\n",
              "    </tr>\n",
              "  </tbody>\n",
              "</table>\n",
              "<p>5 rows × 21 columns</p>\n",
              "</div>\n",
              "    <div class=\"colab-df-buttons\">\n",
              "\n",
              "  <div class=\"colab-df-container\">\n",
              "    <button class=\"colab-df-convert\" onclick=\"convertToInteractive('df-afbe5375-5a02-46a8-b305-aaba5e4d5d6b')\"\n",
              "            title=\"Convert this dataframe to an interactive table.\"\n",
              "            style=\"display:none;\">\n",
              "\n",
              "  <svg xmlns=\"http://www.w3.org/2000/svg\" height=\"24px\" viewBox=\"0 -960 960 960\">\n",
              "    <path d=\"M120-120v-720h720v720H120Zm60-500h600v-160H180v160Zm220 220h160v-160H400v160Zm0 220h160v-160H400v160ZM180-400h160v-160H180v160Zm440 0h160v-160H620v160ZM180-180h160v-160H180v160Zm440 0h160v-160H620v160Z\"/>\n",
              "  </svg>\n",
              "    </button>\n",
              "\n",
              "  <style>\n",
              "    .colab-df-container {\n",
              "      display:flex;\n",
              "      gap: 12px;\n",
              "    }\n",
              "\n",
              "    .colab-df-convert {\n",
              "      background-color: #E8F0FE;\n",
              "      border: none;\n",
              "      border-radius: 50%;\n",
              "      cursor: pointer;\n",
              "      display: none;\n",
              "      fill: #1967D2;\n",
              "      height: 32px;\n",
              "      padding: 0 0 0 0;\n",
              "      width: 32px;\n",
              "    }\n",
              "\n",
              "    .colab-df-convert:hover {\n",
              "      background-color: #E2EBFA;\n",
              "      box-shadow: 0px 1px 2px rgba(60, 64, 67, 0.3), 0px 1px 3px 1px rgba(60, 64, 67, 0.15);\n",
              "      fill: #174EA6;\n",
              "    }\n",
              "\n",
              "    .colab-df-buttons div {\n",
              "      margin-bottom: 4px;\n",
              "    }\n",
              "\n",
              "    [theme=dark] .colab-df-convert {\n",
              "      background-color: #3B4455;\n",
              "      fill: #D2E3FC;\n",
              "    }\n",
              "\n",
              "    [theme=dark] .colab-df-convert:hover {\n",
              "      background-color: #434B5C;\n",
              "      box-shadow: 0px 1px 3px 1px rgba(0, 0, 0, 0.15);\n",
              "      filter: drop-shadow(0px 1px 2px rgba(0, 0, 0, 0.3));\n",
              "      fill: #FFFFFF;\n",
              "    }\n",
              "  </style>\n",
              "\n",
              "    <script>\n",
              "      const buttonEl =\n",
              "        document.querySelector('#df-afbe5375-5a02-46a8-b305-aaba5e4d5d6b button.colab-df-convert');\n",
              "      buttonEl.style.display =\n",
              "        google.colab.kernel.accessAllowed ? 'block' : 'none';\n",
              "\n",
              "      async function convertToInteractive(key) {\n",
              "        const element = document.querySelector('#df-afbe5375-5a02-46a8-b305-aaba5e4d5d6b');\n",
              "        const dataTable =\n",
              "          await google.colab.kernel.invokeFunction('convertToInteractive',\n",
              "                                                    [key], {});\n",
              "        if (!dataTable) return;\n",
              "\n",
              "        const docLinkHtml = 'Like what you see? Visit the ' +\n",
              "          '<a target=\"_blank\" href=https://colab.research.google.com/notebooks/data_table.ipynb>data table notebook</a>'\n",
              "          + ' to learn more about interactive tables.';\n",
              "        element.innerHTML = '';\n",
              "        dataTable['output_type'] = 'display_data';\n",
              "        await google.colab.output.renderOutput(dataTable, element);\n",
              "        const docLink = document.createElement('div');\n",
              "        docLink.innerHTML = docLinkHtml;\n",
              "        element.appendChild(docLink);\n",
              "      }\n",
              "    </script>\n",
              "  </div>\n",
              "\n",
              "\n",
              "<div id=\"df-19598f31-b565-45ba-9a6d-6c65136ae035\">\n",
              "  <button class=\"colab-df-quickchart\" onclick=\"quickchart('df-19598f31-b565-45ba-9a6d-6c65136ae035')\"\n",
              "            title=\"Suggest charts\"\n",
              "            style=\"display:none;\">\n",
              "\n",
              "<svg xmlns=\"http://www.w3.org/2000/svg\" height=\"24px\"viewBox=\"0 0 24 24\"\n",
              "     width=\"24px\">\n",
              "    <g>\n",
              "        <path d=\"M19 3H5c-1.1 0-2 .9-2 2v14c0 1.1.9 2 2 2h14c1.1 0 2-.9 2-2V5c0-1.1-.9-2-2-2zM9 17H7v-7h2v7zm4 0h-2V7h2v10zm4 0h-2v-4h2v4z\"/>\n",
              "    </g>\n",
              "</svg>\n",
              "  </button>\n",
              "\n",
              "<style>\n",
              "  .colab-df-quickchart {\n",
              "      --bg-color: #E8F0FE;\n",
              "      --fill-color: #1967D2;\n",
              "      --hover-bg-color: #E2EBFA;\n",
              "      --hover-fill-color: #174EA6;\n",
              "      --disabled-fill-color: #AAA;\n",
              "      --disabled-bg-color: #DDD;\n",
              "  }\n",
              "\n",
              "  [theme=dark] .colab-df-quickchart {\n",
              "      --bg-color: #3B4455;\n",
              "      --fill-color: #D2E3FC;\n",
              "      --hover-bg-color: #434B5C;\n",
              "      --hover-fill-color: #FFFFFF;\n",
              "      --disabled-bg-color: #3B4455;\n",
              "      --disabled-fill-color: #666;\n",
              "  }\n",
              "\n",
              "  .colab-df-quickchart {\n",
              "    background-color: var(--bg-color);\n",
              "    border: none;\n",
              "    border-radius: 50%;\n",
              "    cursor: pointer;\n",
              "    display: none;\n",
              "    fill: var(--fill-color);\n",
              "    height: 32px;\n",
              "    padding: 0;\n",
              "    width: 32px;\n",
              "  }\n",
              "\n",
              "  .colab-df-quickchart:hover {\n",
              "    background-color: var(--hover-bg-color);\n",
              "    box-shadow: 0 1px 2px rgba(60, 64, 67, 0.3), 0 1px 3px 1px rgba(60, 64, 67, 0.15);\n",
              "    fill: var(--button-hover-fill-color);\n",
              "  }\n",
              "\n",
              "  .colab-df-quickchart-complete:disabled,\n",
              "  .colab-df-quickchart-complete:disabled:hover {\n",
              "    background-color: var(--disabled-bg-color);\n",
              "    fill: var(--disabled-fill-color);\n",
              "    box-shadow: none;\n",
              "  }\n",
              "\n",
              "  .colab-df-spinner {\n",
              "    border: 2px solid var(--fill-color);\n",
              "    border-color: transparent;\n",
              "    border-bottom-color: var(--fill-color);\n",
              "    animation:\n",
              "      spin 1s steps(1) infinite;\n",
              "  }\n",
              "\n",
              "  @keyframes spin {\n",
              "    0% {\n",
              "      border-color: transparent;\n",
              "      border-bottom-color: var(--fill-color);\n",
              "      border-left-color: var(--fill-color);\n",
              "    }\n",
              "    20% {\n",
              "      border-color: transparent;\n",
              "      border-left-color: var(--fill-color);\n",
              "      border-top-color: var(--fill-color);\n",
              "    }\n",
              "    30% {\n",
              "      border-color: transparent;\n",
              "      border-left-color: var(--fill-color);\n",
              "      border-top-color: var(--fill-color);\n",
              "      border-right-color: var(--fill-color);\n",
              "    }\n",
              "    40% {\n",
              "      border-color: transparent;\n",
              "      border-right-color: var(--fill-color);\n",
              "      border-top-color: var(--fill-color);\n",
              "    }\n",
              "    60% {\n",
              "      border-color: transparent;\n",
              "      border-right-color: var(--fill-color);\n",
              "    }\n",
              "    80% {\n",
              "      border-color: transparent;\n",
              "      border-right-color: var(--fill-color);\n",
              "      border-bottom-color: var(--fill-color);\n",
              "    }\n",
              "    90% {\n",
              "      border-color: transparent;\n",
              "      border-bottom-color: var(--fill-color);\n",
              "    }\n",
              "  }\n",
              "</style>\n",
              "\n",
              "  <script>\n",
              "    async function quickchart(key) {\n",
              "      const quickchartButtonEl =\n",
              "        document.querySelector('#' + key + ' button');\n",
              "      quickchartButtonEl.disabled = true;  // To prevent multiple clicks.\n",
              "      quickchartButtonEl.classList.add('colab-df-spinner');\n",
              "      try {\n",
              "        const charts = await google.colab.kernel.invokeFunction(\n",
              "            'suggestCharts', [key], {});\n",
              "      } catch (error) {\n",
              "        console.error('Error during call to suggestCharts:', error);\n",
              "      }\n",
              "      quickchartButtonEl.classList.remove('colab-df-spinner');\n",
              "      quickchartButtonEl.classList.add('colab-df-quickchart-complete');\n",
              "    }\n",
              "    (() => {\n",
              "      let quickchartButtonEl =\n",
              "        document.querySelector('#df-19598f31-b565-45ba-9a6d-6c65136ae035 button');\n",
              "      quickchartButtonEl.style.display =\n",
              "        google.colab.kernel.accessAllowed ? 'block' : 'none';\n",
              "    })();\n",
              "  </script>\n",
              "</div>\n",
              "    </div>\n",
              "  </div>\n"
            ]
          },
          "metadata": {},
          "execution_count": 86
        }
      ],
      "metadata": {
        "datalore": {
          "node_id": "zQhz0hTXE1Oi8MntWOKNMi",
          "type": "CODE",
          "hide_input_from_viewers": false,
          "hide_output_from_viewers": false,
          "report_properties": {
            "rowId": "mo8jYACfpFPhzxnnYifAAW"
          }
        },
        "colab": {
          "base_uri": "https://localhost:8080/",
          "height": 585
        },
        "id": "xQnUZUh9lhmT",
        "outputId": "34e40e52-acfb-4a3e-b47f-0016a6150728"
      }
    },
    {
      "cell_type": "code",
      "source": [
        "# shape of dataframe\n",
        "df.shape"
      ],
      "execution_count": 87,
      "outputs": [
        {
          "output_type": "execute_result",
          "data": {
            "text/plain": [
              "(9994, 21)"
            ]
          },
          "metadata": {},
          "execution_count": 87
        }
      ],
      "metadata": {
        "datalore": {
          "node_id": "kVB0I9p0OxZYZZTqzua3PO",
          "type": "CODE",
          "hide_input_from_viewers": false,
          "hide_output_from_viewers": false,
          "report_properties": {
            "rowId": "8GawIXyLNX6CbKsV9yZEaq"
          }
        },
        "colab": {
          "base_uri": "https://localhost:8080/"
        },
        "id": "U5DqXK1xlhmT",
        "outputId": "f7533204-8d03-41da-f530-968877d62fc8"
      }
    },
    {
      "cell_type": "code",
      "source": [
        "df['Discount'].unique()"
      ],
      "metadata": {
        "colab": {
          "base_uri": "https://localhost:8080/"
        },
        "id": "cPnZ8_MKuy9z",
        "outputId": "1383b988-5f56-4ae5-c830-2e3c4bd1bdbd"
      },
      "execution_count": 88,
      "outputs": [
        {
          "output_type": "execute_result",
          "data": {
            "text/plain": [
              "array([0.  , 0.45, 0.2 , 0.8 , 0.3 , 0.5 , 0.7 , 0.6 , 0.32, 0.1 , 0.4 ,\n",
              "       0.15])"
            ]
          },
          "metadata": {},
          "execution_count": 88
        }
      ]
    },
    {
      "cell_type": "code",
      "source": [
        "# see data frame information using .info()\n",
        "df.info()"
      ],
      "execution_count": 89,
      "outputs": [
        {
          "output_type": "stream",
          "name": "stdout",
          "text": [
            "<class 'pandas.core.frame.DataFrame'>\n",
            "RangeIndex: 9994 entries, 0 to 9993\n",
            "Data columns (total 21 columns):\n",
            " #   Column          Non-Null Count  Dtype  \n",
            "---  ------          --------------  -----  \n",
            " 0   Row ID          9994 non-null   int64  \n",
            " 1   Order ID        9994 non-null   object \n",
            " 2   Order Date      9994 non-null   object \n",
            " 3   Ship Date       9994 non-null   object \n",
            " 4   Ship Mode       9994 non-null   object \n",
            " 5   Customer ID     9994 non-null   object \n",
            " 6   Customer Name   9994 non-null   object \n",
            " 7   Segment         9994 non-null   object \n",
            " 8   Country/Region  9994 non-null   object \n",
            " 9   City            9994 non-null   object \n",
            " 10  State           9994 non-null   object \n",
            " 11  Postal Code     9983 non-null   float64\n",
            " 12  Region          9994 non-null   object \n",
            " 13  Product ID      9994 non-null   object \n",
            " 14  Category        9994 non-null   object \n",
            " 15  Sub-Category    9994 non-null   object \n",
            " 16  Product Name    9994 non-null   object \n",
            " 17  Sales           9994 non-null   float64\n",
            " 18  Quantity        9994 non-null   int64  \n",
            " 19  Discount        9994 non-null   float64\n",
            " 20  Profit          9994 non-null   float64\n",
            "dtypes: float64(4), int64(2), object(15)\n",
            "memory usage: 1.6+ MB\n"
          ]
        }
      ],
      "metadata": {
        "datalore": {
          "node_id": "spDsLIAe6942IymduMdXEa",
          "type": "CODE",
          "hide_input_from_viewers": false,
          "hide_output_from_viewers": false,
          "report_properties": {
            "rowId": "82noBt1lcOgkesjAxRbcz7"
          }
        },
        "colab": {
          "base_uri": "https://localhost:8080/"
        },
        "id": "MKhkjCfNlhmU",
        "outputId": "85ec6471-aee0-4705-b725-ee94c73fc8de"
      }
    },
    {
      "cell_type": "markdown",
      "source": [
        "We can use `pd.to_datetime()` function to convert columns 'Order Date' and 'Ship Date' to datetime."
      ],
      "metadata": {
        "datalore": {
          "node_id": "RaotAw12gwHhI4NQp9Y3jk",
          "type": "MD",
          "hide_input_from_viewers": false,
          "hide_output_from_viewers": false,
          "report_properties": {
            "rowId": "vH8P0Xi0AU3S4YnTuMc3Iz"
          }
        },
        "id": "Magwz6zylhmU"
      }
    },
    {
      "cell_type": "code",
      "source": [
        "# example of pd.to_datetime() function\n",
        "pd.to_datetime(df['Order Date'].head(), format='%m/%d/%Y')"
      ],
      "execution_count": 90,
      "outputs": [
        {
          "output_type": "execute_result",
          "data": {
            "text/plain": [
              "0   2019-11-08\n",
              "1   2019-11-08\n",
              "2   2019-06-12\n",
              "3   2018-10-11\n",
              "4   2018-10-11\n",
              "Name: Order Date, dtype: datetime64[ns]"
            ]
          },
          "metadata": {},
          "execution_count": 90
        }
      ],
      "metadata": {
        "datalore": {
          "node_id": "tZUX6skpnA7iA4TcqqRFuH",
          "type": "CODE",
          "hide_input_from_viewers": false,
          "hide_output_from_viewers": false,
          "report_properties": {
            "rowId": "CXJAKsByPd6tCROSA0eJdD"
          }
        },
        "colab": {
          "base_uri": "https://localhost:8080/"
        },
        "id": "SeoCafGelhmU",
        "outputId": "251dd5fd-a481-43f5-8c01-4d253a7fae4f"
      }
    },
    {
      "cell_type": "code",
      "source": [
        "# TODO - convert order date and ship date to datetime in the original dataframe\n",
        "df[[\"Order Date\",\"Ship Date\"]]= df[[\"Order Date\",\"Ship Date\"]].apply(pd.to_datetime,format = \"%m/%d/%Y\")\n",
        "df[[\"Order Date\",\"Ship Date\"]].info()"
      ],
      "execution_count": 91,
      "outputs": [
        {
          "output_type": "stream",
          "name": "stdout",
          "text": [
            "<class 'pandas.core.frame.DataFrame'>\n",
            "RangeIndex: 9994 entries, 0 to 9993\n",
            "Data columns (total 2 columns):\n",
            " #   Column      Non-Null Count  Dtype         \n",
            "---  ------      --------------  -----         \n",
            " 0   Order Date  9994 non-null   datetime64[ns]\n",
            " 1   Ship Date   9994 non-null   datetime64[ns]\n",
            "dtypes: datetime64[ns](2)\n",
            "memory usage: 156.3 KB\n"
          ]
        }
      ],
      "metadata": {
        "datalore": {
          "node_id": "xLcHfa8lA8zyeXDdhjYb27",
          "type": "CODE",
          "hide_input_from_viewers": false,
          "hide_output_from_viewers": false,
          "report_properties": {
            "rowId": "JycqL52rXXlvqD25Nq6Gq1"
          }
        },
        "colab": {
          "base_uri": "https://localhost:8080/"
        },
        "id": "Ao3-c3Q9lhmU",
        "outputId": "5b571870-100f-449c-da0e-540f85e634ea"
      }
    },
    {
      "cell_type": "code",
      "source": [
        "# TODO - count nan in postal code column\n",
        "df['Postal Code'].isna().sum()"
      ],
      "execution_count": 92,
      "outputs": [
        {
          "output_type": "execute_result",
          "data": {
            "text/plain": [
              "11"
            ]
          },
          "metadata": {},
          "execution_count": 92
        }
      ],
      "metadata": {
        "datalore": {
          "node_id": "g5aEyHlW9av2P0OybrDTpB",
          "type": "CODE",
          "hide_input_from_viewers": false,
          "hide_output_from_viewers": false,
          "report_properties": {
            "rowId": "L8xn0KemSZg7vSGpdNNHFx"
          }
        },
        "colab": {
          "base_uri": "https://localhost:8080/"
        },
        "id": "q4-titMIlhmU",
        "outputId": "0d12a584-31de-4c31-a06d-905ccad48911"
      }
    },
    {
      "cell_type": "code",
      "source": [
        "# TODO - filter rows with missing values\n",
        "df_missing = df[df.isna().any(axis=1)]\n",
        "print(df_missing.shape)\n",
        "df_missing.to_csv(\"missing.csv\")"
      ],
      "execution_count": 93,
      "outputs": [
        {
          "output_type": "stream",
          "name": "stdout",
          "text": [
            "(11, 21)\n"
          ]
        }
      ],
      "metadata": {
        "datalore": {
          "node_id": "4xKFhS1s3z9oDbbdOfV7XK",
          "type": "CODE",
          "hide_input_from_viewers": false,
          "hide_output_from_viewers": false,
          "report_properties": {
            "rowId": "Tpgfay8utqsIy9FFvlJou3"
          }
        },
        "id": "aQyqdEh3lhmU",
        "colab": {
          "base_uri": "https://localhost:8080/"
        },
        "outputId": "01b6beb6-a438-4b1d-c497-9148e74c6671"
      }
    },
    {
      "cell_type": "code",
      "source": [
        "# TODO - Explore this dataset on your owns, ask your own questions\n",
        "# how many column and review column\n",
        "len(df.columns)\n",
        "df.columns\n",
        "df['Discount'].unique()\n",
        "# change column name\n"
      ],
      "execution_count": 94,
      "outputs": [
        {
          "output_type": "execute_result",
          "data": {
            "text/plain": [
              "array([0.  , 0.45, 0.2 , 0.8 , 0.3 , 0.5 , 0.7 , 0.6 , 0.32, 0.1 , 0.4 ,\n",
              "       0.15])"
            ]
          },
          "metadata": {},
          "execution_count": 94
        }
      ],
      "metadata": {
        "datalore": {
          "node_id": "umu4CvGGv5dAET526j7Nfo",
          "type": "CODE",
          "hide_input_from_viewers": false,
          "hide_output_from_viewers": false,
          "report_properties": {
            "rowId": "CWlUsfeirfCuLJ2251JjIJ"
          }
        },
        "colab": {
          "base_uri": "https://localhost:8080/"
        },
        "id": "U-suU8dclhmU",
        "outputId": "38f046d7-5cf8-43ee-fcde-0c5934a7fee9"
      }
    },
    {
      "cell_type": "markdown",
      "source": [
        "## Data Analysis Part\n",
        "\n",
        "Answer 10 below questions to get credit from this course. Write `pandas` code to find answers."
      ],
      "metadata": {
        "datalore": {
          "node_id": "D1wGcjgy4WnXZAISfiHGGU",
          "type": "MD",
          "hide_input_from_viewers": false,
          "hide_output_from_viewers": false,
          "report_properties": {
            "rowId": "k6aM471UUDfuMXxk18zdHO"
          }
        },
        "id": "Zz0lqhXOlhmU"
      }
    },
    {
      "cell_type": "code",
      "source": [
        "# TODO 01 - how many columns, rows in this dataset\n",
        "df.shape"
      ],
      "execution_count": 95,
      "outputs": [
        {
          "output_type": "execute_result",
          "data": {
            "text/plain": [
              "(9994, 21)"
            ]
          },
          "metadata": {},
          "execution_count": 95
        }
      ],
      "metadata": {
        "datalore": {
          "node_id": "T2Ha6AqIfK7sxbrfVyBLeE",
          "type": "CODE",
          "hide_input_from_viewers": false,
          "hide_output_from_viewers": false,
          "report_properties": {
            "rowId": "EXLb3LG2kJEdRqv6elNMt0"
          }
        },
        "id": "BUdPUCFNlhmV",
        "colab": {
          "base_uri": "https://localhost:8080/"
        },
        "outputId": "daf62c10-fea8-4055-f599-1c1ba69d3eb7"
      }
    },
    {
      "cell_type": "code",
      "source": [
        "# TODO 02 - is there any missing values?, if there is, which colunm? how many nan values?\n",
        "df.info()\n",
        "df['Postal Code'].isna().sum()"
      ],
      "execution_count": 96,
      "outputs": [
        {
          "output_type": "stream",
          "name": "stdout",
          "text": [
            "<class 'pandas.core.frame.DataFrame'>\n",
            "RangeIndex: 9994 entries, 0 to 9993\n",
            "Data columns (total 21 columns):\n",
            " #   Column          Non-Null Count  Dtype         \n",
            "---  ------          --------------  -----         \n",
            " 0   Row ID          9994 non-null   int64         \n",
            " 1   Order ID        9994 non-null   object        \n",
            " 2   Order Date      9994 non-null   datetime64[ns]\n",
            " 3   Ship Date       9994 non-null   datetime64[ns]\n",
            " 4   Ship Mode       9994 non-null   object        \n",
            " 5   Customer ID     9994 non-null   object        \n",
            " 6   Customer Name   9994 non-null   object        \n",
            " 7   Segment         9994 non-null   object        \n",
            " 8   Country/Region  9994 non-null   object        \n",
            " 9   City            9994 non-null   object        \n",
            " 10  State           9994 non-null   object        \n",
            " 11  Postal Code     9983 non-null   float64       \n",
            " 12  Region          9994 non-null   object        \n",
            " 13  Product ID      9994 non-null   object        \n",
            " 14  Category        9994 non-null   object        \n",
            " 15  Sub-Category    9994 non-null   object        \n",
            " 16  Product Name    9994 non-null   object        \n",
            " 17  Sales           9994 non-null   float64       \n",
            " 18  Quantity        9994 non-null   int64         \n",
            " 19  Discount        9994 non-null   float64       \n",
            " 20  Profit          9994 non-null   float64       \n",
            "dtypes: datetime64[ns](2), float64(4), int64(2), object(13)\n",
            "memory usage: 1.6+ MB\n"
          ]
        },
        {
          "output_type": "execute_result",
          "data": {
            "text/plain": [
              "11"
            ]
          },
          "metadata": {},
          "execution_count": 96
        }
      ],
      "metadata": {
        "datalore": {
          "node_id": "OEIr9JpheXYHryj4scjpRM",
          "type": "CODE",
          "hide_input_from_viewers": false,
          "hide_output_from_viewers": false,
          "report_properties": {
            "rowId": "15hNw6m6z0snOTjSsXlZ86"
          }
        },
        "id": "rE_03jW1lhmV",
        "colab": {
          "base_uri": "https://localhost:8080/"
        },
        "outputId": "8868d657-48b0-48c9-d26a-d8eb25fcbf6f"
      }
    },
    {
      "cell_type": "code",
      "source": [
        "# TODO 03 - your friend ask for `California` data, filter it and export csv for him\n",
        "df_califoria = df[df['State'] == 'California']\n",
        "df_califoria.to_csv(\"df_california.csv\")"
      ],
      "execution_count": 97,
      "outputs": [],
      "metadata": {
        "datalore": {
          "node_id": "0avju0B7x3zVzm2yNp2WD3",
          "type": "CODE",
          "hide_input_from_viewers": false,
          "hide_output_from_viewers": false,
          "report_properties": {
            "rowId": "2lL5pZtnnk4nyT1BOe18aM"
          }
        },
        "id": "iijQy3OflhmV"
      }
    },
    {
      "cell_type": "code",
      "source": [
        "# TODO 04 - your friend ask for all order data in `California` and `Texas` in 2017 (look at Order Date), send him csv file\n",
        "df_state = df[(df['State'] == 'California') | (df['State'] == 'Texas')]\n",
        "df_state_2017=df_state[(df_state['Order Date']>='2017-01-01')&(df_state['Order Date']<='2017-12-31')]\n",
        "df_state_2017.to_csv(\"df_state_2017.csv\")"
      ],
      "execution_count": 98,
      "outputs": [],
      "metadata": {
        "datalore": {
          "node_id": "OBDZu2pBgQ1UmOFBLYUlWi",
          "type": "CODE",
          "hide_input_from_viewers": false,
          "hide_output_from_viewers": false,
          "report_properties": {
            "rowId": "C2uQAstLhQ8A9jgaCN0pma"
          }
        },
        "id": "vUREx_I7lhmV"
      }
    },
    {
      "cell_type": "code",
      "source": [
        "# TODO 05 - how much total sales, average sales, and standard deviation of sales your company make in 2017\n",
        "print(\"Average =\",round(df['Sales'].mean(),2))\n",
        "print(\"Sum =\",round(df['Sales'].sum(),2))\n",
        "print(\"std =\",round(df['Sales'].std(),2))"
      ],
      "execution_count": 99,
      "outputs": [
        {
          "output_type": "stream",
          "name": "stdout",
          "text": [
            "Average = 229.86\n",
            "Sum = 2297200.86\n",
            "std = 623.25\n"
          ]
        }
      ],
      "metadata": {
        "datalore": {
          "node_id": "UDJAE3h6WDbkAPblvzYsIW",
          "type": "CODE",
          "hide_input_from_viewers": false,
          "hide_output_from_viewers": false,
          "report_properties": {
            "rowId": "qm2O5A0k3kg5FUvwZrezEx"
          }
        },
        "id": "NPH5ljvDlhmV",
        "colab": {
          "base_uri": "https://localhost:8080/"
        },
        "outputId": "b2193ed9-77ef-4ef0-f19d-59e9b7ad8957"
      }
    },
    {
      "cell_type": "code",
      "source": [
        "# TODO 06 - which Segment has the highest profit in 2018\n",
        "df_2018=df[(df['Order Date']>='2018-01-01')&(df['Order Date']<='20-12-31')]\n",
        "df_2018.groupby(\"Segment\")['Profit'].sum().sort_values(ascending=False)"
      ],
      "execution_count": 108,
      "outputs": [
        {
          "output_type": "execute_result",
          "data": {
            "text/plain": [
              "Segment\n",
              "Consumer       109799.3588\n",
              "Corporate       78465.8571\n",
              "Home Office     48587.8317\n",
              "Name: Profit, dtype: float64"
            ]
          },
          "metadata": {},
          "execution_count": 108
        }
      ],
      "metadata": {
        "datalore": {
          "node_id": "QF90UNdKWtmGuxJeTIR0Xr",
          "type": "CODE",
          "hide_input_from_viewers": false,
          "hide_output_from_viewers": false,
          "report_properties": {
            "rowId": "xdw0yPWSt3wSUs0qnrNnN5"
          }
        },
        "id": "YPds8d98lhmV",
        "colab": {
          "base_uri": "https://localhost:8080/"
        },
        "outputId": "73fdfc2d-c664-4abc-d4a3-1ab30cdedfeb"
      }
    },
    {
      "cell_type": "code",
      "source": [
        "# TODO 07 - which top 5 States have the least total sales between 15 April 2019 - 31 December 2019\n",
        "df_2019_apltodec=df[(df['Order Date']>='2019-04-15')&(df['Order Date']<='2019-12-31')]\n",
        "df_2019_apltodec.groupby(\"State\")[\"Sales\"].sum().sort_values(ascending=False).head(10)"
      ],
      "execution_count": 101,
      "outputs": [
        {
          "output_type": "execute_result",
          "data": {
            "text/plain": [
              "State\n",
              "California      105632.9565\n",
              "New York         56873.9340\n",
              "Texas            31114.3390\n",
              "Pennsylvania     28207.2940\n",
              "Michigan         26675.8110\n",
              "Indiana          24844.9700\n",
              "Ohio             23290.4330\n",
              "Washington       18632.9020\n",
              "New Jersey       17103.3860\n",
              "Virginia         16648.3400\n",
              "Name: Sales, dtype: float64"
            ]
          },
          "metadata": {},
          "execution_count": 101
        }
      ],
      "metadata": {
        "datalore": {
          "node_id": "0yYlGIosTJ1lAhBCzICenm",
          "type": "CODE",
          "hide_input_from_viewers": false,
          "hide_output_from_viewers": false,
          "report_properties": {
            "rowId": "Nb2RWTKZqXKEx6cUMaFOn6"
          }
        },
        "id": "LTPkVFWdlhmV",
        "colab": {
          "base_uri": "https://localhost:8080/"
        },
        "outputId": "82a546ac-36d5-4dc6-e8b9-587dc1b8fb8e"
      }
    },
    {
      "cell_type": "code",
      "source": [
        "# TODO 08 - what is the proportion of total sales (%) in West + Central in 2019 e.g. 25%\n",
        "df_2019=df[(df['Order Date']>='2019-01-1')&(df['Order Date']<='2019-12-31')]\n",
        "\n",
        "df_2019_summary_sales=df_2019.groupby('Region')['Sales'].sum().sort_values(ascending = False)\n",
        "df_2019_summary_sales = df_2019_summary_sales.to_frame(name='Sales')\n",
        "df_2019_summary_sales = df_2019_summary_sales.reset_index()\n",
        "\n",
        "df_2019_summary_sales.columns\n",
        "df_2019_summary_sales['Proportion'] = round((df_2019_summary_sales['Sales']/df_2019_summary_sales['Sales'].sum())*100,2)\n",
        "df_2019_summary_sales[(df_2019_summary_sales['Region'] == 'West') | (df_2019_summary_sales['Region'] == 'Central')]['Proportion'].sum()"
      ],
      "execution_count": 102,
      "outputs": [
        {
          "output_type": "execute_result",
          "data": {
            "text/plain": [
              "54.97"
            ]
          },
          "metadata": {},
          "execution_count": 102
        }
      ],
      "metadata": {
        "datalore": {
          "node_id": "SSV0Jlti23qLGjBJe1I5sw",
          "type": "CODE",
          "hide_input_from_viewers": false,
          "hide_output_from_viewers": false,
          "report_properties": {
            "rowId": "9mE7LqV8NhcWYAxBY3e3FQ"
          }
        },
        "id": "91pk4MwolhmV",
        "colab": {
          "base_uri": "https://localhost:8080/"
        },
        "outputId": "cd6aeabf-d41e-426c-f0f7-f983d93d675d"
      }
    },
    {
      "cell_type": "code",
      "source": [
        "df_2019=df[(df['Order Date']>='2019-01-1')&(df['Order Date']<='2019-12-31')]\n",
        "df_2019_summary_sales=df_2019.groupby('Region')['Sales'].sum().sort_values(ascending = False)\n",
        "df_2019_summary_sales = df_2019_summary_sales.to_frame(name='Sales')\n",
        "df_2019_summary_sales = df_2019_summary_sales.reset_index()\n",
        "df_2019_summary_sales.columns\n",
        "df_2019_summary_sales['Proportion'] = round((df_2019_summary_sales['Sales']/df_2019_summary_sales['Sales'].sum())*100,2)\n",
        "df_2019_summary_sales"
      ],
      "metadata": {
        "colab": {
          "base_uri": "https://localhost:8080/",
          "height": 175
        },
        "id": "F75DTebBPQit",
        "outputId": "db73e83f-149a-4144-b92a-ade7b733eab4"
      },
      "execution_count": 103,
      "outputs": [
        {
          "output_type": "execute_result",
          "data": {
            "text/plain": [
              "    Region        Sales  Proportion\n",
              "0     West  187480.1765       30.77\n",
              "1     East  180685.8220       29.66\n",
              "2  Central  147429.3760       24.20\n",
              "3    South   93610.2235       15.37"
            ],
            "text/html": [
              "\n",
              "  <div id=\"df-0518211a-0321-4513-aa7a-e0dda56f6df5\" class=\"colab-df-container\">\n",
              "    <div>\n",
              "<style scoped>\n",
              "    .dataframe tbody tr th:only-of-type {\n",
              "        vertical-align: middle;\n",
              "    }\n",
              "\n",
              "    .dataframe tbody tr th {\n",
              "        vertical-align: top;\n",
              "    }\n",
              "\n",
              "    .dataframe thead th {\n",
              "        text-align: right;\n",
              "    }\n",
              "</style>\n",
              "<table border=\"1\" class=\"dataframe\">\n",
              "  <thead>\n",
              "    <tr style=\"text-align: right;\">\n",
              "      <th></th>\n",
              "      <th>Region</th>\n",
              "      <th>Sales</th>\n",
              "      <th>Proportion</th>\n",
              "    </tr>\n",
              "  </thead>\n",
              "  <tbody>\n",
              "    <tr>\n",
              "      <th>0</th>\n",
              "      <td>West</td>\n",
              "      <td>187480.1765</td>\n",
              "      <td>30.77</td>\n",
              "    </tr>\n",
              "    <tr>\n",
              "      <th>1</th>\n",
              "      <td>East</td>\n",
              "      <td>180685.8220</td>\n",
              "      <td>29.66</td>\n",
              "    </tr>\n",
              "    <tr>\n",
              "      <th>2</th>\n",
              "      <td>Central</td>\n",
              "      <td>147429.3760</td>\n",
              "      <td>24.20</td>\n",
              "    </tr>\n",
              "    <tr>\n",
              "      <th>3</th>\n",
              "      <td>South</td>\n",
              "      <td>93610.2235</td>\n",
              "      <td>15.37</td>\n",
              "    </tr>\n",
              "  </tbody>\n",
              "</table>\n",
              "</div>\n",
              "    <div class=\"colab-df-buttons\">\n",
              "\n",
              "  <div class=\"colab-df-container\">\n",
              "    <button class=\"colab-df-convert\" onclick=\"convertToInteractive('df-0518211a-0321-4513-aa7a-e0dda56f6df5')\"\n",
              "            title=\"Convert this dataframe to an interactive table.\"\n",
              "            style=\"display:none;\">\n",
              "\n",
              "  <svg xmlns=\"http://www.w3.org/2000/svg\" height=\"24px\" viewBox=\"0 -960 960 960\">\n",
              "    <path d=\"M120-120v-720h720v720H120Zm60-500h600v-160H180v160Zm220 220h160v-160H400v160Zm0 220h160v-160H400v160ZM180-400h160v-160H180v160Zm440 0h160v-160H620v160ZM180-180h160v-160H180v160Zm440 0h160v-160H620v160Z\"/>\n",
              "  </svg>\n",
              "    </button>\n",
              "\n",
              "  <style>\n",
              "    .colab-df-container {\n",
              "      display:flex;\n",
              "      gap: 12px;\n",
              "    }\n",
              "\n",
              "    .colab-df-convert {\n",
              "      background-color: #E8F0FE;\n",
              "      border: none;\n",
              "      border-radius: 50%;\n",
              "      cursor: pointer;\n",
              "      display: none;\n",
              "      fill: #1967D2;\n",
              "      height: 32px;\n",
              "      padding: 0 0 0 0;\n",
              "      width: 32px;\n",
              "    }\n",
              "\n",
              "    .colab-df-convert:hover {\n",
              "      background-color: #E2EBFA;\n",
              "      box-shadow: 0px 1px 2px rgba(60, 64, 67, 0.3), 0px 1px 3px 1px rgba(60, 64, 67, 0.15);\n",
              "      fill: #174EA6;\n",
              "    }\n",
              "\n",
              "    .colab-df-buttons div {\n",
              "      margin-bottom: 4px;\n",
              "    }\n",
              "\n",
              "    [theme=dark] .colab-df-convert {\n",
              "      background-color: #3B4455;\n",
              "      fill: #D2E3FC;\n",
              "    }\n",
              "\n",
              "    [theme=dark] .colab-df-convert:hover {\n",
              "      background-color: #434B5C;\n",
              "      box-shadow: 0px 1px 3px 1px rgba(0, 0, 0, 0.15);\n",
              "      filter: drop-shadow(0px 1px 2px rgba(0, 0, 0, 0.3));\n",
              "      fill: #FFFFFF;\n",
              "    }\n",
              "  </style>\n",
              "\n",
              "    <script>\n",
              "      const buttonEl =\n",
              "        document.querySelector('#df-0518211a-0321-4513-aa7a-e0dda56f6df5 button.colab-df-convert');\n",
              "      buttonEl.style.display =\n",
              "        google.colab.kernel.accessAllowed ? 'block' : 'none';\n",
              "\n",
              "      async function convertToInteractive(key) {\n",
              "        const element = document.querySelector('#df-0518211a-0321-4513-aa7a-e0dda56f6df5');\n",
              "        const dataTable =\n",
              "          await google.colab.kernel.invokeFunction('convertToInteractive',\n",
              "                                                    [key], {});\n",
              "        if (!dataTable) return;\n",
              "\n",
              "        const docLinkHtml = 'Like what you see? Visit the ' +\n",
              "          '<a target=\"_blank\" href=https://colab.research.google.com/notebooks/data_table.ipynb>data table notebook</a>'\n",
              "          + ' to learn more about interactive tables.';\n",
              "        element.innerHTML = '';\n",
              "        dataTable['output_type'] = 'display_data';\n",
              "        await google.colab.output.renderOutput(dataTable, element);\n",
              "        const docLink = document.createElement('div');\n",
              "        docLink.innerHTML = docLinkHtml;\n",
              "        element.appendChild(docLink);\n",
              "      }\n",
              "    </script>\n",
              "  </div>\n",
              "\n",
              "\n",
              "<div id=\"df-f1e94949-ceb6-44f6-9c05-148ce21ac420\">\n",
              "  <button class=\"colab-df-quickchart\" onclick=\"quickchart('df-f1e94949-ceb6-44f6-9c05-148ce21ac420')\"\n",
              "            title=\"Suggest charts\"\n",
              "            style=\"display:none;\">\n",
              "\n",
              "<svg xmlns=\"http://www.w3.org/2000/svg\" height=\"24px\"viewBox=\"0 0 24 24\"\n",
              "     width=\"24px\">\n",
              "    <g>\n",
              "        <path d=\"M19 3H5c-1.1 0-2 .9-2 2v14c0 1.1.9 2 2 2h14c1.1 0 2-.9 2-2V5c0-1.1-.9-2-2-2zM9 17H7v-7h2v7zm4 0h-2V7h2v10zm4 0h-2v-4h2v4z\"/>\n",
              "    </g>\n",
              "</svg>\n",
              "  </button>\n",
              "\n",
              "<style>\n",
              "  .colab-df-quickchart {\n",
              "      --bg-color: #E8F0FE;\n",
              "      --fill-color: #1967D2;\n",
              "      --hover-bg-color: #E2EBFA;\n",
              "      --hover-fill-color: #174EA6;\n",
              "      --disabled-fill-color: #AAA;\n",
              "      --disabled-bg-color: #DDD;\n",
              "  }\n",
              "\n",
              "  [theme=dark] .colab-df-quickchart {\n",
              "      --bg-color: #3B4455;\n",
              "      --fill-color: #D2E3FC;\n",
              "      --hover-bg-color: #434B5C;\n",
              "      --hover-fill-color: #FFFFFF;\n",
              "      --disabled-bg-color: #3B4455;\n",
              "      --disabled-fill-color: #666;\n",
              "  }\n",
              "\n",
              "  .colab-df-quickchart {\n",
              "    background-color: var(--bg-color);\n",
              "    border: none;\n",
              "    border-radius: 50%;\n",
              "    cursor: pointer;\n",
              "    display: none;\n",
              "    fill: var(--fill-color);\n",
              "    height: 32px;\n",
              "    padding: 0;\n",
              "    width: 32px;\n",
              "  }\n",
              "\n",
              "  .colab-df-quickchart:hover {\n",
              "    background-color: var(--hover-bg-color);\n",
              "    box-shadow: 0 1px 2px rgba(60, 64, 67, 0.3), 0 1px 3px 1px rgba(60, 64, 67, 0.15);\n",
              "    fill: var(--button-hover-fill-color);\n",
              "  }\n",
              "\n",
              "  .colab-df-quickchart-complete:disabled,\n",
              "  .colab-df-quickchart-complete:disabled:hover {\n",
              "    background-color: var(--disabled-bg-color);\n",
              "    fill: var(--disabled-fill-color);\n",
              "    box-shadow: none;\n",
              "  }\n",
              "\n",
              "  .colab-df-spinner {\n",
              "    border: 2px solid var(--fill-color);\n",
              "    border-color: transparent;\n",
              "    border-bottom-color: var(--fill-color);\n",
              "    animation:\n",
              "      spin 1s steps(1) infinite;\n",
              "  }\n",
              "\n",
              "  @keyframes spin {\n",
              "    0% {\n",
              "      border-color: transparent;\n",
              "      border-bottom-color: var(--fill-color);\n",
              "      border-left-color: var(--fill-color);\n",
              "    }\n",
              "    20% {\n",
              "      border-color: transparent;\n",
              "      border-left-color: var(--fill-color);\n",
              "      border-top-color: var(--fill-color);\n",
              "    }\n",
              "    30% {\n",
              "      border-color: transparent;\n",
              "      border-left-color: var(--fill-color);\n",
              "      border-top-color: var(--fill-color);\n",
              "      border-right-color: var(--fill-color);\n",
              "    }\n",
              "    40% {\n",
              "      border-color: transparent;\n",
              "      border-right-color: var(--fill-color);\n",
              "      border-top-color: var(--fill-color);\n",
              "    }\n",
              "    60% {\n",
              "      border-color: transparent;\n",
              "      border-right-color: var(--fill-color);\n",
              "    }\n",
              "    80% {\n",
              "      border-color: transparent;\n",
              "      border-right-color: var(--fill-color);\n",
              "      border-bottom-color: var(--fill-color);\n",
              "    }\n",
              "    90% {\n",
              "      border-color: transparent;\n",
              "      border-bottom-color: var(--fill-color);\n",
              "    }\n",
              "  }\n",
              "</style>\n",
              "\n",
              "  <script>\n",
              "    async function quickchart(key) {\n",
              "      const quickchartButtonEl =\n",
              "        document.querySelector('#' + key + ' button');\n",
              "      quickchartButtonEl.disabled = true;  // To prevent multiple clicks.\n",
              "      quickchartButtonEl.classList.add('colab-df-spinner');\n",
              "      try {\n",
              "        const charts = await google.colab.kernel.invokeFunction(\n",
              "            'suggestCharts', [key], {});\n",
              "      } catch (error) {\n",
              "        console.error('Error during call to suggestCharts:', error);\n",
              "      }\n",
              "      quickchartButtonEl.classList.remove('colab-df-spinner');\n",
              "      quickchartButtonEl.classList.add('colab-df-quickchart-complete');\n",
              "    }\n",
              "    (() => {\n",
              "      let quickchartButtonEl =\n",
              "        document.querySelector('#df-f1e94949-ceb6-44f6-9c05-148ce21ac420 button');\n",
              "      quickchartButtonEl.style.display =\n",
              "        google.colab.kernel.accessAllowed ? 'block' : 'none';\n",
              "    })();\n",
              "  </script>\n",
              "</div>\n",
              "    </div>\n",
              "  </div>\n"
            ]
          },
          "metadata": {},
          "execution_count": 103
        }
      ]
    },
    {
      "cell_type": "code",
      "source": [
        "# TODO 09 - find top 10 popular products in terms of number of orders vs. total sales during 2019-2020\n",
        "df_2019_to_2020 = df[(df['Order Date']>='2019-01-1')&(df['Order Date']<='2020-12-31')]\n",
        "df_2019_to_2020.columns\n",
        "df_2019_to_2020_summary_Quantity=df_2019_to_2020.groupby(\"Product Name\")['Quantity'].sum().sort_values(ascending=False)\n",
        "df_2019_to_2020_summary_Quantity = df_2019_to_2020_summary_Quantity.to_frame(name='Quantity')\n",
        "df_2019_to_2020_summary_Quantity = df_2019_to_2020_summary_Quantity.reset_index()\n",
        "df_2019_to_2020_summary_Quantity\n",
        "\n",
        "df_2019_to_2020_summary_sales = df_2019_to_2020.groupby(\"Product Name\")['Sales'].sum()\n",
        "df_2019_to_2020_summary_sales = df_2019_to_2020_summary_sales.to_frame(name='Sales')\n",
        "df_2019_to_2020_summary_sales = df_2019_to_2020_summary_sales.reset_index()\n",
        "df_2019_to_2020_summary_sales\n",
        "\n",
        "df_2019_to_2020_full_summary = pd.merge(df_2019_to_2020_summary_Quantity,df_2019_to_2020_summary_sales,on='Product Name')\n",
        "df_2019_to_2020_full_summary.head(10)"
      ],
      "execution_count": 104,
      "outputs": [
        {
          "output_type": "execute_result",
          "data": {
            "text/plain": [
              "                                        Product Name  Quantity     Sales\n",
              "0                                            Staples       124   462.068\n",
              "1                                  Easy-staple paper        89  1481.728\n",
              "2                                    Staple envelope        73   644.936\n",
              "3                            Staples in misc. colors        60   357.164\n",
              "4                 Chromcraft Round Conference Tables        59  7965.053\n",
              "5                            Storex Dura Pro Binders        49   176.418\n",
              "6         Situations Contoured Folding Chairs, 4/Set        47  2612.064\n",
              "7  Wilson Jones Clip & Carry Folder Binder Tool f...        44   178.060\n",
              "8                            Avery Non-Stick Binders        43   122.128\n",
              "9                        Eldon Wave Desk Accessories        42   215.924"
            ],
            "text/html": [
              "\n",
              "  <div id=\"df-beb38e71-19b9-4d9e-8fb5-8490eb4274c0\" class=\"colab-df-container\">\n",
              "    <div>\n",
              "<style scoped>\n",
              "    .dataframe tbody tr th:only-of-type {\n",
              "        vertical-align: middle;\n",
              "    }\n",
              "\n",
              "    .dataframe tbody tr th {\n",
              "        vertical-align: top;\n",
              "    }\n",
              "\n",
              "    .dataframe thead th {\n",
              "        text-align: right;\n",
              "    }\n",
              "</style>\n",
              "<table border=\"1\" class=\"dataframe\">\n",
              "  <thead>\n",
              "    <tr style=\"text-align: right;\">\n",
              "      <th></th>\n",
              "      <th>Product Name</th>\n",
              "      <th>Quantity</th>\n",
              "      <th>Sales</th>\n",
              "    </tr>\n",
              "  </thead>\n",
              "  <tbody>\n",
              "    <tr>\n",
              "      <th>0</th>\n",
              "      <td>Staples</td>\n",
              "      <td>124</td>\n",
              "      <td>462.068</td>\n",
              "    </tr>\n",
              "    <tr>\n",
              "      <th>1</th>\n",
              "      <td>Easy-staple paper</td>\n",
              "      <td>89</td>\n",
              "      <td>1481.728</td>\n",
              "    </tr>\n",
              "    <tr>\n",
              "      <th>2</th>\n",
              "      <td>Staple envelope</td>\n",
              "      <td>73</td>\n",
              "      <td>644.936</td>\n",
              "    </tr>\n",
              "    <tr>\n",
              "      <th>3</th>\n",
              "      <td>Staples in misc. colors</td>\n",
              "      <td>60</td>\n",
              "      <td>357.164</td>\n",
              "    </tr>\n",
              "    <tr>\n",
              "      <th>4</th>\n",
              "      <td>Chromcraft Round Conference Tables</td>\n",
              "      <td>59</td>\n",
              "      <td>7965.053</td>\n",
              "    </tr>\n",
              "    <tr>\n",
              "      <th>5</th>\n",
              "      <td>Storex Dura Pro Binders</td>\n",
              "      <td>49</td>\n",
              "      <td>176.418</td>\n",
              "    </tr>\n",
              "    <tr>\n",
              "      <th>6</th>\n",
              "      <td>Situations Contoured Folding Chairs, 4/Set</td>\n",
              "      <td>47</td>\n",
              "      <td>2612.064</td>\n",
              "    </tr>\n",
              "    <tr>\n",
              "      <th>7</th>\n",
              "      <td>Wilson Jones Clip &amp; Carry Folder Binder Tool f...</td>\n",
              "      <td>44</td>\n",
              "      <td>178.060</td>\n",
              "    </tr>\n",
              "    <tr>\n",
              "      <th>8</th>\n",
              "      <td>Avery Non-Stick Binders</td>\n",
              "      <td>43</td>\n",
              "      <td>122.128</td>\n",
              "    </tr>\n",
              "    <tr>\n",
              "      <th>9</th>\n",
              "      <td>Eldon Wave Desk Accessories</td>\n",
              "      <td>42</td>\n",
              "      <td>215.924</td>\n",
              "    </tr>\n",
              "  </tbody>\n",
              "</table>\n",
              "</div>\n",
              "    <div class=\"colab-df-buttons\">\n",
              "\n",
              "  <div class=\"colab-df-container\">\n",
              "    <button class=\"colab-df-convert\" onclick=\"convertToInteractive('df-beb38e71-19b9-4d9e-8fb5-8490eb4274c0')\"\n",
              "            title=\"Convert this dataframe to an interactive table.\"\n",
              "            style=\"display:none;\">\n",
              "\n",
              "  <svg xmlns=\"http://www.w3.org/2000/svg\" height=\"24px\" viewBox=\"0 -960 960 960\">\n",
              "    <path d=\"M120-120v-720h720v720H120Zm60-500h600v-160H180v160Zm220 220h160v-160H400v160Zm0 220h160v-160H400v160ZM180-400h160v-160H180v160Zm440 0h160v-160H620v160ZM180-180h160v-160H180v160Zm440 0h160v-160H620v160Z\"/>\n",
              "  </svg>\n",
              "    </button>\n",
              "\n",
              "  <style>\n",
              "    .colab-df-container {\n",
              "      display:flex;\n",
              "      gap: 12px;\n",
              "    }\n",
              "\n",
              "    .colab-df-convert {\n",
              "      background-color: #E8F0FE;\n",
              "      border: none;\n",
              "      border-radius: 50%;\n",
              "      cursor: pointer;\n",
              "      display: none;\n",
              "      fill: #1967D2;\n",
              "      height: 32px;\n",
              "      padding: 0 0 0 0;\n",
              "      width: 32px;\n",
              "    }\n",
              "\n",
              "    .colab-df-convert:hover {\n",
              "      background-color: #E2EBFA;\n",
              "      box-shadow: 0px 1px 2px rgba(60, 64, 67, 0.3), 0px 1px 3px 1px rgba(60, 64, 67, 0.15);\n",
              "      fill: #174EA6;\n",
              "    }\n",
              "\n",
              "    .colab-df-buttons div {\n",
              "      margin-bottom: 4px;\n",
              "    }\n",
              "\n",
              "    [theme=dark] .colab-df-convert {\n",
              "      background-color: #3B4455;\n",
              "      fill: #D2E3FC;\n",
              "    }\n",
              "\n",
              "    [theme=dark] .colab-df-convert:hover {\n",
              "      background-color: #434B5C;\n",
              "      box-shadow: 0px 1px 3px 1px rgba(0, 0, 0, 0.15);\n",
              "      filter: drop-shadow(0px 1px 2px rgba(0, 0, 0, 0.3));\n",
              "      fill: #FFFFFF;\n",
              "    }\n",
              "  </style>\n",
              "\n",
              "    <script>\n",
              "      const buttonEl =\n",
              "        document.querySelector('#df-beb38e71-19b9-4d9e-8fb5-8490eb4274c0 button.colab-df-convert');\n",
              "      buttonEl.style.display =\n",
              "        google.colab.kernel.accessAllowed ? 'block' : 'none';\n",
              "\n",
              "      async function convertToInteractive(key) {\n",
              "        const element = document.querySelector('#df-beb38e71-19b9-4d9e-8fb5-8490eb4274c0');\n",
              "        const dataTable =\n",
              "          await google.colab.kernel.invokeFunction('convertToInteractive',\n",
              "                                                    [key], {});\n",
              "        if (!dataTable) return;\n",
              "\n",
              "        const docLinkHtml = 'Like what you see? Visit the ' +\n",
              "          '<a target=\"_blank\" href=https://colab.research.google.com/notebooks/data_table.ipynb>data table notebook</a>'\n",
              "          + ' to learn more about interactive tables.';\n",
              "        element.innerHTML = '';\n",
              "        dataTable['output_type'] = 'display_data';\n",
              "        await google.colab.output.renderOutput(dataTable, element);\n",
              "        const docLink = document.createElement('div');\n",
              "        docLink.innerHTML = docLinkHtml;\n",
              "        element.appendChild(docLink);\n",
              "      }\n",
              "    </script>\n",
              "  </div>\n",
              "\n",
              "\n",
              "<div id=\"df-05b9ae90-e6b1-436c-8099-466a357d3304\">\n",
              "  <button class=\"colab-df-quickchart\" onclick=\"quickchart('df-05b9ae90-e6b1-436c-8099-466a357d3304')\"\n",
              "            title=\"Suggest charts\"\n",
              "            style=\"display:none;\">\n",
              "\n",
              "<svg xmlns=\"http://www.w3.org/2000/svg\" height=\"24px\"viewBox=\"0 0 24 24\"\n",
              "     width=\"24px\">\n",
              "    <g>\n",
              "        <path d=\"M19 3H5c-1.1 0-2 .9-2 2v14c0 1.1.9 2 2 2h14c1.1 0 2-.9 2-2V5c0-1.1-.9-2-2-2zM9 17H7v-7h2v7zm4 0h-2V7h2v10zm4 0h-2v-4h2v4z\"/>\n",
              "    </g>\n",
              "</svg>\n",
              "  </button>\n",
              "\n",
              "<style>\n",
              "  .colab-df-quickchart {\n",
              "      --bg-color: #E8F0FE;\n",
              "      --fill-color: #1967D2;\n",
              "      --hover-bg-color: #E2EBFA;\n",
              "      --hover-fill-color: #174EA6;\n",
              "      --disabled-fill-color: #AAA;\n",
              "      --disabled-bg-color: #DDD;\n",
              "  }\n",
              "\n",
              "  [theme=dark] .colab-df-quickchart {\n",
              "      --bg-color: #3B4455;\n",
              "      --fill-color: #D2E3FC;\n",
              "      --hover-bg-color: #434B5C;\n",
              "      --hover-fill-color: #FFFFFF;\n",
              "      --disabled-bg-color: #3B4455;\n",
              "      --disabled-fill-color: #666;\n",
              "  }\n",
              "\n",
              "  .colab-df-quickchart {\n",
              "    background-color: var(--bg-color);\n",
              "    border: none;\n",
              "    border-radius: 50%;\n",
              "    cursor: pointer;\n",
              "    display: none;\n",
              "    fill: var(--fill-color);\n",
              "    height: 32px;\n",
              "    padding: 0;\n",
              "    width: 32px;\n",
              "  }\n",
              "\n",
              "  .colab-df-quickchart:hover {\n",
              "    background-color: var(--hover-bg-color);\n",
              "    box-shadow: 0 1px 2px rgba(60, 64, 67, 0.3), 0 1px 3px 1px rgba(60, 64, 67, 0.15);\n",
              "    fill: var(--button-hover-fill-color);\n",
              "  }\n",
              "\n",
              "  .colab-df-quickchart-complete:disabled,\n",
              "  .colab-df-quickchart-complete:disabled:hover {\n",
              "    background-color: var(--disabled-bg-color);\n",
              "    fill: var(--disabled-fill-color);\n",
              "    box-shadow: none;\n",
              "  }\n",
              "\n",
              "  .colab-df-spinner {\n",
              "    border: 2px solid var(--fill-color);\n",
              "    border-color: transparent;\n",
              "    border-bottom-color: var(--fill-color);\n",
              "    animation:\n",
              "      spin 1s steps(1) infinite;\n",
              "  }\n",
              "\n",
              "  @keyframes spin {\n",
              "    0% {\n",
              "      border-color: transparent;\n",
              "      border-bottom-color: var(--fill-color);\n",
              "      border-left-color: var(--fill-color);\n",
              "    }\n",
              "    20% {\n",
              "      border-color: transparent;\n",
              "      border-left-color: var(--fill-color);\n",
              "      border-top-color: var(--fill-color);\n",
              "    }\n",
              "    30% {\n",
              "      border-color: transparent;\n",
              "      border-left-color: var(--fill-color);\n",
              "      border-top-color: var(--fill-color);\n",
              "      border-right-color: var(--fill-color);\n",
              "    }\n",
              "    40% {\n",
              "      border-color: transparent;\n",
              "      border-right-color: var(--fill-color);\n",
              "      border-top-color: var(--fill-color);\n",
              "    }\n",
              "    60% {\n",
              "      border-color: transparent;\n",
              "      border-right-color: var(--fill-color);\n",
              "    }\n",
              "    80% {\n",
              "      border-color: transparent;\n",
              "      border-right-color: var(--fill-color);\n",
              "      border-bottom-color: var(--fill-color);\n",
              "    }\n",
              "    90% {\n",
              "      border-color: transparent;\n",
              "      border-bottom-color: var(--fill-color);\n",
              "    }\n",
              "  }\n",
              "</style>\n",
              "\n",
              "  <script>\n",
              "    async function quickchart(key) {\n",
              "      const quickchartButtonEl =\n",
              "        document.querySelector('#' + key + ' button');\n",
              "      quickchartButtonEl.disabled = true;  // To prevent multiple clicks.\n",
              "      quickchartButtonEl.classList.add('colab-df-spinner');\n",
              "      try {\n",
              "        const charts = await google.colab.kernel.invokeFunction(\n",
              "            'suggestCharts', [key], {});\n",
              "      } catch (error) {\n",
              "        console.error('Error during call to suggestCharts:', error);\n",
              "      }\n",
              "      quickchartButtonEl.classList.remove('colab-df-spinner');\n",
              "      quickchartButtonEl.classList.add('colab-df-quickchart-complete');\n",
              "    }\n",
              "    (() => {\n",
              "      let quickchartButtonEl =\n",
              "        document.querySelector('#df-05b9ae90-e6b1-436c-8099-466a357d3304 button');\n",
              "      quickchartButtonEl.style.display =\n",
              "        google.colab.kernel.accessAllowed ? 'block' : 'none';\n",
              "    })();\n",
              "  </script>\n",
              "</div>\n",
              "    </div>\n",
              "  </div>\n"
            ]
          },
          "metadata": {},
          "execution_count": 104
        }
      ],
      "metadata": {
        "datalore": {
          "node_id": "D3KfHu54t8jAmvmP6zm25f",
          "type": "CODE",
          "hide_input_from_viewers": false,
          "hide_output_from_viewers": false,
          "report_properties": {
            "rowId": "5vfEoAcGJENnX7O2gCnNjW"
          }
        },
        "id": "SS26VVPUlhmV",
        "colab": {
          "base_uri": "https://localhost:8080/",
          "height": 363
        },
        "outputId": "eb28adf2-1b83-40f5-c435-2a8d9f6abaef"
      }
    },
    {
      "cell_type": "code",
      "source": [
        "# TODO 10 - plot at least 2 plots, any plot you think interesting :)\n",
        "#1 scatter plot between profit and sales\n",
        "df[['Sales','Profit']].plot(x='Sales',y='Profit',kind='scatter')"
      ],
      "execution_count": 105,
      "outputs": [
        {
          "output_type": "execute_result",
          "data": {
            "text/plain": [
              "<Axes: xlabel='Sales', ylabel='Profit'>"
            ]
          },
          "metadata": {},
          "execution_count": 105
        },
        {
          "output_type": "display_data",
          "data": {
            "text/plain": [
              "<Figure size 640x480 with 1 Axes>"
            ],
            "image/png": "[encoded data removed]"
          },
          "metadata": {}
        }
      ],
      "metadata": {
        "datalore": {
          "node_id": "VvMUKs8ZTN8g0goZOJ6R3I",
          "type": "CODE",
          "hide_input_from_viewers": false,
          "hide_output_from_viewers": false,
          "report_properties": {
            "rowId": "8dYXFblHIqbz238MU6sOoJ"
          }
        },
        "id": "iyZ9q2aZlhmV",
        "colab": {
          "base_uri": "https://localhost:8080/",
          "height": 466
        },
        "outputId": "ffe7091e-e441-4565-ef5f-72040bc90fb8"
      }
    },
    {
      "cell_type": "code",
      "source": [
        "#2 top 3 product name per sales\n",
        "print(df.groupby('Product Name')['Profit'].sum().sort_values(ascending = False).head(10))\n",
        "df.groupby('Product Name')['Profit'].sum().sort_values(ascending = False).head(10).plot(x='Product Name',y='Sales',kind = 'bar')"
      ],
      "metadata": {
        "id": "QOT4_rFFxtZJ",
        "colab": {
          "base_uri": "https://localhost:8080/",
          "height": 1000
        },
        "outputId": "89c0162e-8424-4ff0-f821-63a85c5eeccd"
      },
      "execution_count": 106,
      "outputs": [
        {
          "output_type": "stream",
          "name": "stdout",
          "text": [
            "Product Name\n",
            "Canon imageCLASS 2200 Advanced Copier                                          25199.9280\n",
            "Fellowes PB500 Electric Punch Plastic Comb Binding Machine with Manual Bind     7753.0390\n",
            "Hewlett Packard LaserJet 3310 Copier                                            6983.8836\n",
            "Canon PC1060 Personal Laser Copier                                              4570.9347\n",
            "HP Designjet T520 Inkjet Large Format Printer - 24\" Color                       4094.9766\n",
            "Ativa V4110MDD Micro-Cut Shredder                                               3772.9461\n",
            "3D Systems Cube Printer, 2nd Generation, Magenta                                3717.9714\n",
            "Plantronics Savi W720 Multi-Device Wireless Headset System                      3696.2820\n",
            "Ibico EPK-21 Electric Binding System                                            3345.2823\n",
            "Zebra ZM400 Thermal Label Printer                                               3343.5360\n",
            "Name: Profit, dtype: float64\n"
          ]
        },
        {
          "output_type": "execute_result",
          "data": {
            "text/plain": [
              "<Axes: xlabel='Product Name'>"
            ]
          },
          "metadata": {},
          "execution_count": 106
        },
        {
          "output_type": "display_data",
          "data": {
            "text/plain": [
              "<Figure size 640x480 with 1 Axes>"
            ],
            "image/png": "[encoded data removed]"
          },
          "metadata": {}
        }
      ]
    }
  ],
  "metadata": {
    "kernelspec": {
      "display_name": "Python",
      "language": "python",
      "name": "python"
    },
    "datalore": {
      "computation_mode": "JUPYTER",
      "package_manager": "pip",
      "base_environment": "default",
      "packages": [],
      "report_row_ids": [
        "fskb46lNirOTAlGQM0WrDk",
        "kdCiDEdGQXzCSraofbZXEU",
        "mo8jYACfpFPhzxnnYifAAW",
        "8GawIXyLNX6CbKsV9yZEaq",
        "82noBt1lcOgkesjAxRbcz7",
        "vH8P0Xi0AU3S4YnTuMc3Iz",
        "CXJAKsByPd6tCROSA0eJdD",
        "JycqL52rXXlvqD25Nq6Gq1",
        "L8xn0KemSZg7vSGpdNNHFx",
        "Tpgfay8utqsIy9FFvlJou3",
        "CWlUsfeirfCuLJ2251JjIJ",
        "k6aM471UUDfuMXxk18zdHO",
        "EXLb3LG2kJEdRqv6elNMt0",
        "15hNw6m6z0snOTjSsXlZ86",
        "2lL5pZtnnk4nyT1BOe18aM",
        "C2uQAstLhQ8A9jgaCN0pma",
        "qm2O5A0k3kg5FUvwZrezEx",
        "xdw0yPWSt3wSUs0qnrNnN5",
        "Nb2RWTKZqXKEx6cUMaFOn6",
        "9mE7LqV8NhcWYAxBY3e3FQ",
        "5vfEoAcGJENnX7O2gCnNjW",
        "8dYXFblHIqbz238MU6sOoJ",
        "xXgDsjOftm2HP70z3GhBpR"
      ],
      "version": 3
    },
    "colab": {
      "provenance": [],
      "include_colab_link": true
    }
  },
  "nbformat": 4,
  "nbformat_minor": 0
}
