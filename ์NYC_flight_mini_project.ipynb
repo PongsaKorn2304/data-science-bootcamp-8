{
  "nbformat": 4,
  "nbformat_minor": 0,
  "metadata": {
    "colab": {
      "provenance": [],
      "authorship_tag": "ABX9TyMTTOBfBLmeEegVvspiH4sH",
      "include_colab_link": true
    },
    "kernelspec": {
      "name": "ir",
      "display_name": "R"
    },
    "language_info": {
      "name": "R"
    }
  },
  "cells": [
    {
      "cell_type": "markdown",
      "metadata": {
        "id": "view-in-github",
        "colab_type": "text"
      },
      "source": [
        "<a href=\"https://colab.research.google.com/github/PongsaKorn2304/data-science-bootcamp-8/blob/main/%E0%B9%8CNYC_flight_mini_project.ipynb\" target=\"_parent\"><img src=\"https://colab.research.google.com/assets/colab-badge.svg\" alt=\"Open In Colab\"/></a>"
      ]
    },
    {
      "cell_type": "markdown",
      "source": [
        "## NYC flight mini project\n",
        "this project create for practice data tranformation by asking question and find answer on NYC flight 13 data set\n",
        "\n",
        "### Practice asking quesion\n",
        "1. How many percent of delayed flight ?\n",
        "2. what is the first 4 months which have the most delayed flight?\n",
        "3. what airline have the most delayed flight\n",
        "4. Find average time (minute) of delayed flight per airline\n",
        "5. stat value of arrive delayed time (minute)\n",
        "\n",
        "\n",
        "### About data set (NYC flight 13 package)\n",
        "Data about all flights that departed from NYC (e.g. EWR, JFK and LGA) to destinations in the United States, Puerto Rico, and the American Virgin Islands) in 2013: 336,776 flights in total. To help understand what causes delays, it also includes a number of other useful datasets.\n",
        "\n",
        "This package provides the following data tables.\n",
        "\n",
        "flights: all flights that departed from NYC in 2013 \\\n",
        "airlines: translation between two letter carrier codes and names\n",
        "In this project use the\n"
      ],
      "metadata": {
        "id": "vNIF-1bO_J5B"
      }
    },
    {
      "cell_type": "markdown",
      "source": [
        "## 1. Download library and data set\n"
      ],
      "metadata": {
        "id": "IifqUkWJBRcB"
      }
    },
    {
      "cell_type": "code",
      "execution_count": null,
      "metadata": {
        "id": "ZTDQ4NOk-JjW"
      },
      "outputs": [],
      "source": [
        "install.packages(\"nycflights13\")\n",
        "library(tidyverse)\n",
        "library(nycflights13)\n",
        "View(flights)\n",
        "glimpse(flights)\n",
        "colnames(flights)"
      ]
    },
    {
      "cell_type": "code",
      "source": [
        "library(tidyverse)"
      ],
      "metadata": {
        "colab": {
          "base_uri": "https://localhost:8080/"
        },
        "id": "IONNH1JE-UpJ",
        "outputId": "952277e6-573f-4990-b4ed-697321464b8f"
      },
      "execution_count": 3,
      "outputs": [
        {
          "output_type": "stream",
          "name": "stderr",
          "text": [
            "── \u001b[1mAttaching core tidyverse packages\u001b[22m ──────────────────────── tidyverse 2.0.0 ──\n",
            "\u001b[32m✔\u001b[39m \u001b[34mdplyr    \u001b[39m 1.1.3     \u001b[32m✔\u001b[39m \u001b[34mreadr    \u001b[39m 2.1.4\n",
            "\u001b[32m✔\u001b[39m \u001b[34mforcats  \u001b[39m 1.0.0     \u001b[32m✔\u001b[39m \u001b[34mstringr  \u001b[39m 1.5.0\n",
            "\u001b[32m✔\u001b[39m \u001b[34mggplot2  \u001b[39m 3.4.4     \u001b[32m✔\u001b[39m \u001b[34mtibble   \u001b[39m 3.2.1\n",
            "\u001b[32m✔\u001b[39m \u001b[34mlubridate\u001b[39m 1.9.3     \u001b[32m✔\u001b[39m \u001b[34mtidyr    \u001b[39m 1.3.0\n",
            "\u001b[32m✔\u001b[39m \u001b[34mpurrr    \u001b[39m 1.0.2     \n",
            "── \u001b[1mConflicts\u001b[22m ────────────────────────────────────────── tidyverse_conflicts() ──\n",
            "\u001b[31m✖\u001b[39m \u001b[34mdplyr\u001b[39m::\u001b[32mfilter()\u001b[39m masks \u001b[34mstats\u001b[39m::filter()\n",
            "\u001b[31m✖\u001b[39m \u001b[34mdplyr\u001b[39m::\u001b[32mlag()\u001b[39m    masks \u001b[34mstats\u001b[39m::lag()\n",
            "\u001b[36mℹ\u001b[39m Use the conflicted package (\u001b[3m\u001b[34m<http://conflicted.r-lib.org/>\u001b[39m\u001b[23m) to force all conflicts to become errors\n"
          ]
        }
      ]
    },
    {
      "cell_type": "markdown",
      "source": [
        "## 1. How many percent of delayed flight ?\n",
        "Ans: Delayed flights accounted for 39.49 percent (total 336,776)"
      ],
      "metadata": {
        "id": "T7NqHdQeB8LZ"
      }
    },
    {
      "cell_type": "code",
      "source": [
        "flights %>%\n",
        "  filter(arr_delay>0)%>%\n",
        "  summarise(all_flight = nrow(flights),\n",
        "            delay_flight = n(),\n",
        "            percent_delay = round((n()/nrow(flights))*100,2))"
      ],
      "metadata": {
        "colab": {
          "base_uri": "https://localhost:8080/",
          "height": 129
        },
        "id": "ubDheAle-XQ0",
        "outputId": "d0faa788-096c-43c2-ce9b-4fd806854dbe"
      },
      "execution_count": 23,
      "outputs": [
        {
          "output_type": "display_data",
          "data": {
            "text/html": [
              "<table class=\"dataframe\">\n",
              "<caption>A tibble: 1 × 3</caption>\n",
              "<thead>\n",
              "\t<tr><th scope=col>all_flight</th><th scope=col>delay_flight</th><th scope=col>percent_delay</th></tr>\n",
              "\t<tr><th scope=col>&lt;int&gt;</th><th scope=col>&lt;int&gt;</th><th scope=col>&lt;dbl&gt;</th></tr>\n",
              "</thead>\n",
              "<tbody>\n",
              "\t<tr><td>336776</td><td>133004</td><td>39.49</td></tr>\n",
              "</tbody>\n",
              "</table>\n"
            ],
            "text/markdown": "\nA tibble: 1 × 3\n\n| all_flight &lt;int&gt; | delay_flight &lt;int&gt; | percent_delay &lt;dbl&gt; |\n|---|---|---|\n| 336776 | 133004 | 39.49 |\n\n",
            "text/latex": "A tibble: 1 × 3\n\\begin{tabular}{lll}\n all\\_flight & delay\\_flight & percent\\_delay\\\\\n <int> & <int> & <dbl>\\\\\n\\hline\n\t 336776 & 133004 & 39.49\\\\\n\\end{tabular}\n",
            "text/plain": [
              "  all_flight delay_flight percent_delay\n",
              "1 336776     133004       39.49        "
            ]
          },
          "metadata": {}
        }
      ]
    },
    {
      "cell_type": "markdown",
      "source": [
        "## 2. what is the first 4 months which have the most delayed flight?\n",
        "ans: Dec, july, april, june\n",
        "\n"
      ],
      "metadata": {
        "id": "AxyTMKkbCgDC"
      }
    },
    {
      "cell_type": "code",
      "source": [
        "flights%>%\n",
        "\t  filter(arr_delay>0)%>%\n",
        "\t  group_by(month)%>%\n",
        "\t  summarise(Count_of_delayed_flight = n())%>%\n",
        "\t  arrange(-Count_of_delayed_flight)%>%\n",
        "\t  head(4)"
      ],
      "metadata": {
        "colab": {
          "base_uri": "https://localhost:8080/",
          "height": 223
        },
        "id": "CjlcjoK4_Na_",
        "outputId": "81e15680-9808-47d2-a56d-eaa7c61790fe"
      },
      "execution_count": 30,
      "outputs": [
        {
          "output_type": "display_data",
          "data": {
            "text/html": [
              "<table class=\"dataframe\">\n",
              "<caption>A tibble: 4 × 2</caption>\n",
              "<thead>\n",
              "\t<tr><th scope=col>month</th><th scope=col>Count_of_delayed_flight</th></tr>\n",
              "\t<tr><th scope=col>&lt;int&gt;</th><th scope=col>&lt;int&gt;</th></tr>\n",
              "</thead>\n",
              "<tbody>\n",
              "\t<tr><td>12</td><td>14394</td></tr>\n",
              "\t<tr><td> 7</td><td>13304</td></tr>\n",
              "\t<tr><td> 4</td><td>12522</td></tr>\n",
              "\t<tr><td> 6</td><td>12490</td></tr>\n",
              "</tbody>\n",
              "</table>\n"
            ],
            "text/markdown": "\nA tibble: 4 × 2\n\n| month &lt;int&gt; | Count_of_delayed_flight &lt;int&gt; |\n|---|---|\n| 12 | 14394 |\n|  7 | 13304 |\n|  4 | 12522 |\n|  6 | 12490 |\n\n",
            "text/latex": "A tibble: 4 × 2\n\\begin{tabular}{ll}\n month & Count\\_of\\_delayed\\_flight\\\\\n <int> & <int>\\\\\n\\hline\n\t 12 & 14394\\\\\n\t  7 & 13304\\\\\n\t  4 & 12522\\\\\n\t  6 & 12490\\\\\n\\end{tabular}\n",
            "text/plain": [
              "  month Count_of_delayed_flight\n",
              "1 12    14394                  \n",
              "2  7    13304                  \n",
              "3  4    12522                  \n",
              "4  6    12490                  "
            ]
          },
          "metadata": {}
        }
      ]
    },
    {
      "cell_type": "markdown",
      "source": [
        "## 3. what airline have the most delayed flight\n",
        "ans: EV airline"
      ],
      "metadata": {
        "id": "g0YCLNHLE5wz"
      }
    },
    {
      "cell_type": "code",
      "source": [
        "flights%>%\n",
        "  filter(arr_delay>0)%>%\n",
        "  group_by(carrier)%>%\n",
        "  summarise(n = n())%>%\n",
        "  arrange(-n)%>%\n",
        "  head(12)"
      ],
      "metadata": {
        "colab": {
          "base_uri": "https://localhost:8080/",
          "height": 474
        },
        "id": "Um0e5rnVCken",
        "outputId": "382132d6-134b-425b-c353-71b99be2a679"
      },
      "execution_count": 10,
      "outputs": [
        {
          "output_type": "display_data",
          "data": {
            "text/html": [
              "<table class=\"dataframe\">\n",
              "<caption>A tibble: 12 × 2</caption>\n",
              "<thead>\n",
              "\t<tr><th scope=col>carrier</th><th scope=col>n</th></tr>\n",
              "\t<tr><th scope=col>&lt;chr&gt;</th><th scope=col>&lt;int&gt;</th></tr>\n",
              "</thead>\n",
              "<tbody>\n",
              "\t<tr><td>EV</td><td>24484</td></tr>\n",
              "\t<tr><td>B6</td><td>23609</td></tr>\n",
              "\t<tr><td>UA</td><td>22222</td></tr>\n",
              "\t<tr><td>DL</td><td>16413</td></tr>\n",
              "\t<tr><td>MQ</td><td>11693</td></tr>\n",
              "\t<tr><td>AA</td><td>10706</td></tr>\n",
              "\t<tr><td>US</td><td> 7349</td></tr>\n",
              "\t<tr><td>9E</td><td> 6637</td></tr>\n",
              "\t<tr><td>WN</td><td> 5304</td></tr>\n",
              "\t<tr><td>FL</td><td> 1895</td></tr>\n",
              "\t<tr><td>VX</td><td> 1746</td></tr>\n",
              "\t<tr><td>F9</td><td>  392</td></tr>\n",
              "</tbody>\n",
              "</table>\n"
            ],
            "text/markdown": "\nA tibble: 12 × 2\n\n| carrier &lt;chr&gt; | n &lt;int&gt; |\n|---|---|\n| EV | 24484 |\n| B6 | 23609 |\n| UA | 22222 |\n| DL | 16413 |\n| MQ | 11693 |\n| AA | 10706 |\n| US |  7349 |\n| 9E |  6637 |\n| WN |  5304 |\n| FL |  1895 |\n| VX |  1746 |\n| F9 |   392 |\n\n",
            "text/latex": "A tibble: 12 × 2\n\\begin{tabular}{ll}\n carrier & n\\\\\n <chr> & <int>\\\\\n\\hline\n\t EV & 24484\\\\\n\t B6 & 23609\\\\\n\t UA & 22222\\\\\n\t DL & 16413\\\\\n\t MQ & 11693\\\\\n\t AA & 10706\\\\\n\t US &  7349\\\\\n\t 9E &  6637\\\\\n\t WN &  5304\\\\\n\t FL &  1895\\\\\n\t VX &  1746\\\\\n\t F9 &   392\\\\\n\\end{tabular}\n",
            "text/plain": [
              "   carrier n    \n",
              "1  EV      24484\n",
              "2  B6      23609\n",
              "3  UA      22222\n",
              "4  DL      16413\n",
              "5  MQ      11693\n",
              "6  AA      10706\n",
              "7  US       7349\n",
              "8  9E       6637\n",
              "9  WN       5304\n",
              "10 FL       1895\n",
              "11 VX       1746\n",
              "12 F9        392"
            ]
          },
          "metadata": {}
        }
      ]
    },
    {
      "cell_type": "markdown",
      "source": [
        "## 4. Find average time (minute) of delayed flight per airline"
      ],
      "metadata": {
        "id": "RDCmBAt4FO8p"
      }
    },
    {
      "cell_type": "code",
      "source": [
        "flights%>%\n",
        "  filter(arr_delay>0)%>%\n",
        "  group_by(carrier)%>%\n",
        "  summarise(delay_time_minute = round(mean(arr_delay),2))%>%\n",
        "  arrange(-delay_time_minute)\n",
        ""
      ],
      "metadata": {
        "colab": {
          "base_uri": "https://localhost:8080/",
          "height": 599
        },
        "id": "m0QFltFmFGsA",
        "outputId": "d0b600ef-7f5e-4aaf-d9a5-da2700d5c5f6"
      },
      "execution_count": 36,
      "outputs": [
        {
          "output_type": "display_data",
          "data": {
            "text/html": [
              "<table class=\"dataframe\">\n",
              "<caption>A tibble: 16 × 2</caption>\n",
              "<thead>\n",
              "\t<tr><th scope=col>carrier</th><th scope=col>delay_time_minute</th></tr>\n",
              "\t<tr><th scope=col>&lt;chr&gt;</th><th scope=col>&lt;dbl&gt;</th></tr>\n",
              "</thead>\n",
              "<tbody>\n",
              "\t<tr><td>OO</td><td>60.60</td></tr>\n",
              "\t<tr><td>YV</td><td>51.08</td></tr>\n",
              "\t<tr><td>9E</td><td>49.27</td></tr>\n",
              "\t<tr><td>EV</td><td>48.27</td></tr>\n",
              "\t<tr><td>F9</td><td>47.58</td></tr>\n",
              "\t<tr><td>VX</td><td>43.85</td></tr>\n",
              "\t<tr><td>FL</td><td>41.09</td></tr>\n",
              "\t<tr><td>WN</td><td>40.75</td></tr>\n",
              "\t<tr><td>B6</td><td>40.01</td></tr>\n",
              "\t<tr><td>AA</td><td>38.27</td></tr>\n",
              "\t<tr><td>MQ</td><td>37.85</td></tr>\n",
              "\t<tr><td>DL</td><td>37.74</td></tr>\n",
              "\t<tr><td>UA</td><td>36.65</td></tr>\n",
              "\t<tr><td>HA</td><td>35.03</td></tr>\n",
              "\t<tr><td>AS</td><td>34.37</td></tr>\n",
              "\t<tr><td>US</td><td>29.01</td></tr>\n",
              "</tbody>\n",
              "</table>\n"
            ],
            "text/markdown": "\nA tibble: 16 × 2\n\n| carrier &lt;chr&gt; | delay_time_minute &lt;dbl&gt; |\n|---|---|\n| OO | 60.60 |\n| YV | 51.08 |\n| 9E | 49.27 |\n| EV | 48.27 |\n| F9 | 47.58 |\n| VX | 43.85 |\n| FL | 41.09 |\n| WN | 40.75 |\n| B6 | 40.01 |\n| AA | 38.27 |\n| MQ | 37.85 |\n| DL | 37.74 |\n| UA | 36.65 |\n| HA | 35.03 |\n| AS | 34.37 |\n| US | 29.01 |\n\n",
            "text/latex": "A tibble: 16 × 2\n\\begin{tabular}{ll}\n carrier & delay\\_time\\_minute\\\\\n <chr> & <dbl>\\\\\n\\hline\n\t OO & 60.60\\\\\n\t YV & 51.08\\\\\n\t 9E & 49.27\\\\\n\t EV & 48.27\\\\\n\t F9 & 47.58\\\\\n\t VX & 43.85\\\\\n\t FL & 41.09\\\\\n\t WN & 40.75\\\\\n\t B6 & 40.01\\\\\n\t AA & 38.27\\\\\n\t MQ & 37.85\\\\\n\t DL & 37.74\\\\\n\t UA & 36.65\\\\\n\t HA & 35.03\\\\\n\t AS & 34.37\\\\\n\t US & 29.01\\\\\n\\end{tabular}\n",
            "text/plain": [
              "   carrier delay_time_minute\n",
              "1  OO      60.60            \n",
              "2  YV      51.08            \n",
              "3  9E      49.27            \n",
              "4  EV      48.27            \n",
              "5  F9      47.58            \n",
              "6  VX      43.85            \n",
              "7  FL      41.09            \n",
              "8  WN      40.75            \n",
              "9  B6      40.01            \n",
              "10 AA      38.27            \n",
              "11 MQ      37.85            \n",
              "12 DL      37.74            \n",
              "13 UA      36.65            \n",
              "14 HA      35.03            \n",
              "15 AS      34.37            \n",
              "16 US      29.01            "
            ]
          },
          "metadata": {}
        }
      ]
    },
    {
      "cell_type": "markdown",
      "source": [
        "## 5.stat value of arrive delayed time (minute)"
      ],
      "metadata": {
        "id": "d7TOaM3IGsEa"
      }
    },
    {
      "cell_type": "code",
      "source": [
        "flights%>%\n",
        "  filter(arr_delay>0)%>%\n",
        "  summarise(avg = mean(arr_delay),\n",
        "            min = min(arr_delay),\n",
        "            max = max(arr_delay),\n",
        "            std = sd(arr_delay))"
      ],
      "metadata": {
        "colab": {
          "base_uri": "https://localhost:8080/",
          "height": 129
        },
        "id": "EXMxtkA8GcNC",
        "outputId": "99477211-4a70-49c8-b3b3-5f3082174a40"
      },
      "execution_count": 37,
      "outputs": [
        {
          "output_type": "display_data",
          "data": {
            "text/html": [
              "<table class=\"dataframe\">\n",
              "<caption>A tibble: 1 × 4</caption>\n",
              "<thead>\n",
              "\t<tr><th scope=col>avg</th><th scope=col>min</th><th scope=col>max</th><th scope=col>std</th></tr>\n",
              "\t<tr><th scope=col>&lt;dbl&gt;</th><th scope=col>&lt;dbl&gt;</th><th scope=col>&lt;dbl&gt;</th><th scope=col>&lt;dbl&gt;</th></tr>\n",
              "</thead>\n",
              "<tbody>\n",
              "\t<tr><td>40.3425</td><td>1</td><td>1272</td><td>53.34633</td></tr>\n",
              "</tbody>\n",
              "</table>\n"
            ],
            "text/markdown": "\nA tibble: 1 × 4\n\n| avg &lt;dbl&gt; | min &lt;dbl&gt; | max &lt;dbl&gt; | std &lt;dbl&gt; |\n|---|---|---|---|\n| 40.3425 | 1 | 1272 | 53.34633 |\n\n",
            "text/latex": "A tibble: 1 × 4\n\\begin{tabular}{llll}\n avg & min & max & std\\\\\n <dbl> & <dbl> & <dbl> & <dbl>\\\\\n\\hline\n\t 40.3425 & 1 & 1272 & 53.34633\\\\\n\\end{tabular}\n",
            "text/plain": [
              "  avg     min max  std     \n",
              "1 40.3425 1   1272 53.34633"
            ]
          },
          "metadata": {}
        }
      ]
    }
  ]
}